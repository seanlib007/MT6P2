{
 "cells": [
  {
   "cell_type": "code",
   "execution_count": 3,
   "id": "failing-wildlife",
   "metadata": {},
   "outputs": [],
   "source": [
    "from sympy import *\n",
    "from sympy.abc import s,t,a\n",
    "def conv(f,g):\n",
    "    cfg=integrate(f.subs(t,u)*g,subs(t,t-u),(u,0,t))\n",
    "    lhs=expand(laplace_transform(cfg,t,s,noconds=True))\n",
    "    rhs=expand(laplace_transform(f,t,s,noconds=True)*laplace_transform(g,t,s,noconds=True))\n",
    "    if lhs==rhs:\n",
    "        print(\"The convoultion theorem is verified\")\n",
    "    else:\n",
    "        print(\"The convoultion theorem not is verified\")"
   ]
  },
  {
   "cell_type": "code",
   "execution_count": null,
   "id": "every-consciousness",
   "metadata": {},
   "outputs": [],
   "source": [
    "conv(exp(t),cos(t))"
   ]
  }
 ],
 "metadata": {
  "kernelspec": {
   "display_name": "Python 3",
   "language": "python",
   "name": "python3"
  },
  "language_info": {
   "codemirror_mode": {
    "name": "ipython",
    "version": 3
   },
   "file_extension": ".py",
   "mimetype": "text/x-python",
   "name": "python",
   "nbconvert_exporter": "python",
   "pygments_lexer": "ipython3",
   "version": "3.9.2"
  }
 },
 "nbformat": 4,
 "nbformat_minor": 5
}
