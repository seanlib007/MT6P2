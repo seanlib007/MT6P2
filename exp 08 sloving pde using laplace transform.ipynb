{
 "cells": [
  {
   "cell_type": "code",
   "execution_count": 28,
   "id": "expired-raleigh",
   "metadata": {},
   "outputs": [],
   "source": [
    "from sympy import *\n",
    "\n",
    "from sympy.abc import s,t\n",
    "y = Function(\"y\")\n",
    "\n",
    "y1 = y(t).diff(t)\n",
    "y2 = y(t).diff(t, 2)\n",
    "y3 = y(t).diff(t, 3)\n",
    "\n",
    "def solved(exp, bcs: dict):\n",
    "    \n",
    "    tran = solve(laplace_transform(exp, t, s)[0], laplace_transform(y(t), t, s))[0].subs(bcs)\n",
    "    sol = inverse_laplace_transform(tran, s, t) / Heaviside(t)\n",
    "    \n",
    "    pprint(simplify(sol))"
   ]
  },
  {
   "cell_type": "code",
   "execution_count": 29,
   "id": "consolidated-orchestra",
   "metadata": {},
   "outputs": [
    {
     "name": "stdout",
     "output_type": "stream",
     "text": [
      "   t        -2⋅t\n",
      "3⋅ℯ  - 2 + ℯ    \n"
     ]
    }
   ],
   "source": [
    "solved(y2+y1-2*y(t)-4,{y(0):2,y1:1})"
   ]
  },
  {
   "cell_type": "code",
   "execution_count": 30,
   "id": "chubby-lightweight",
   "metadata": {},
   "outputs": [
    {
     "name": "stdout",
     "output_type": "stream",
     "text": [
      " 4⋅t    t    \n",
      "ℯ      ℯ    1\n",
      "──── - ── + ─\n",
      " 12    3    4\n"
     ]
    }
   ],
   "source": [
    "solved(y2-y1-exp(4*t),{y(0):0,y1:0})"
   ]
  },
  {
   "cell_type": "code",
   "execution_count": 31,
   "id": "handed-slope",
   "metadata": {},
   "outputs": [
    {
     "name": "stdout",
     "output_type": "stream",
     "text": [
      "  cos(t)   cosh(2⋅t)\n",
      "- ────── + ─────────\n",
      "    5          5    \n"
     ]
    }
   ],
   "source": [
    "solved(y2-4*y(t)-cos(t),{y(0):0,y1:0})"
   ]
  },
  {
   "cell_type": "code",
   "execution_count": null,
   "id": "adapted-negotiation",
   "metadata": {},
   "outputs": [],
   "source": []
  },
  {
   "cell_type": "code",
   "execution_count": null,
   "id": "exposed-shoot",
   "metadata": {},
   "outputs": [],
   "source": []
  }
 ],
 "metadata": {
  "kernelspec": {
   "display_name": "Python 3",
   "language": "python",
   "name": "python3"
  },
  "language_info": {
   "codemirror_mode": {
    "name": "ipython",
    "version": 3
   },
   "file_extension": ".py",
   "mimetype": "text/x-python",
   "name": "python",
   "nbconvert_exporter": "python",
   "pygments_lexer": "ipython3",
   "version": "3.9.2"
  }
 },
 "nbformat": 4,
 "nbformat_minor": 5
}
