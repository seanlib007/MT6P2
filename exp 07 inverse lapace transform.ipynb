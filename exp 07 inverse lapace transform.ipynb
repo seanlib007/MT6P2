{
 "cells": [
  {
   "cell_type": "code",
   "execution_count": 5,
   "id": "digital-tumor",
   "metadata": {},
   "outputs": [
    {
     "name": "stdout",
     "output_type": "stream",
     "text": [
      "t**2*exp(-3*t)*Heaviside(t)/2\n"
     ]
    }
   ],
   "source": [
    "from sympy import *\n",
    "from sympy.abc import s,t,a\n",
    "print(inverse_laplace_transform(1/(s+3)**3,s,t))"
   ]
  },
  {
   "cell_type": "code",
   "execution_count": 6,
   "id": "continuous-precipitation",
   "metadata": {},
   "outputs": [
    {
     "name": "stdout",
     "output_type": "stream",
     "text": [
      "t*(-t**2 + 5*t + 3)*Heaviside(t)\n"
     ]
    }
   ],
   "source": [
    "from sympy import *\n",
    "from sympy.abc import s,t,a\n",
    "print(inverse_laplace_transform((3*s**2+10*s-6)/s**4,s,t))"
   ]
  },
  {
   "cell_type": "code",
   "execution_count": 7,
   "id": "white-choir",
   "metadata": {},
   "outputs": [
    {
     "name": "stdout",
     "output_type": "stream",
     "text": [
      "t**3*(3*t + 4)*exp(3*t)*Heaviside(t)/24\n"
     ]
    }
   ],
   "source": [
    "from sympy import *\n",
    "from sympy.abc import s,t,a\n",
    "print(inverse_laplace_transform(s/(s-3)**5,s,t))"
   ]
  },
  {
   "cell_type": "code",
   "execution_count": 10,
   "id": "elect-recruitment",
   "metadata": {},
   "outputs": [
    {
     "name": "stdout",
     "output_type": "stream",
     "text": [
      "-(15*sin(2*t) - 4*cos(2*t))*exp(-2*t)*Heaviside(t)/2\n"
     ]
    }
   ],
   "source": [
    "from sympy import *\n",
    "from sympy.abc import s,t,a\n",
    "print(inverse_laplace_transform((2*s-11)/(s**2+4*s+8),s,t))"
   ]
  },
  {
   "cell_type": "code",
   "execution_count": 11,
   "id": "sought-curve",
   "metadata": {},
   "outputs": [
    {
     "name": "stdout",
     "output_type": "stream",
     "text": [
      "(1 - 2*t)*exp(-3*t)*Heaviside(t)\n"
     ]
    }
   ],
   "source": [
    "from sympy import *\n",
    "from sympy.abc import s,t,a\n",
    "print(inverse_laplace_transform((s+1)/(s**2+6*s+9),s,t))"
   ]
  },
  {
   "cell_type": "code",
   "execution_count": 23,
   "id": "valid-slovenia",
   "metadata": {},
   "outputs": [],
   "source": [
    "from sympy import *\n",
    "from sympy.abc import s,t\n",
    "def inv(F):\n",
    "    pprint(inverse_laplace_transform(F,s,t)/Heaviside(t))"
   ]
  },
  {
   "cell_type": "code",
   "execution_count": 24,
   "id": "patent-induction",
   "metadata": {},
   "outputs": [
    {
     "name": "stdout",
     "output_type": "stream",
     "text": [
      " 2  -3⋅t\n",
      "t ⋅ℯ    \n",
      "────────\n",
      "   2    \n"
     ]
    }
   ],
   "source": [
    "inv(1/(s+3)**3)"
   ]
  },
  {
   "cell_type": "code",
   "execution_count": 25,
   "id": "apparent-blues",
   "metadata": {},
   "outputs": [
    {
     "name": "stdout",
     "output_type": "stream",
     "text": [
      "  ⎛   2          ⎞\n",
      "t⋅⎝- t  + 5⋅t + 3⎠\n"
     ]
    }
   ],
   "source": [
    "inv((3*s**2+10*s-6)/s**4)"
   ]
  },
  {
   "cell_type": "code",
   "execution_count": 26,
   "id": "fatty-maria",
   "metadata": {},
   "outputs": [
    {
     "name": "stdout",
     "output_type": "stream",
     "text": [
      " 3            3⋅t\n",
      "t ⋅(3⋅t + 4)⋅ℯ   \n",
      "─────────────────\n",
      "        24       \n"
     ]
    }
   ],
   "source": [
    "inv(s/(s-3)**5)"
   ]
  },
  {
   "cell_type": "code",
   "execution_count": 27,
   "id": "gothic-michigan",
   "metadata": {},
   "outputs": [
    {
     "name": "stdout",
     "output_type": "stream",
     "text": [
      "                             -2⋅t \n",
      "-(15⋅sin(2⋅t) - 4⋅cos(2⋅t))⋅ℯ     \n",
      "──────────────────────────────────\n",
      "                2                 \n"
     ]
    }
   ],
   "source": [
    "inv((2*s-11)/(s**2+4*s+8))"
   ]
  },
  {
   "cell_type": "code",
   "execution_count": 28,
   "id": "assured-syracuse",
   "metadata": {},
   "outputs": [
    {
     "name": "stdout",
     "output_type": "stream",
     "text": [
      "           -3⋅t\n",
      "(1 - 2⋅t)⋅ℯ    \n"
     ]
    }
   ],
   "source": [
    "inv((s+1)/(s**2+6*s+9))"
   ]
  },
  {
   "cell_type": "code",
   "execution_count": null,
   "id": "spiritual-florence",
   "metadata": {},
   "outputs": [],
   "source": []
  },
  {
   "cell_type": "code",
   "execution_count": null,
   "id": "possible-blackjack",
   "metadata": {},
   "outputs": [],
   "source": []
  },
  {
   "cell_type": "code",
   "execution_count": null,
   "id": "aggressive-college",
   "metadata": {},
   "outputs": [],
   "source": []
  }
 ],
 "metadata": {
  "kernelspec": {
   "display_name": "Python 3",
   "language": "python",
   "name": "python3"
  },
  "language_info": {
   "codemirror_mode": {
    "name": "ipython",
    "version": 3
   },
   "file_extension": ".py",
   "mimetype": "text/x-python",
   "name": "python",
   "nbconvert_exporter": "python",
   "pygments_lexer": "ipython3",
   "version": "3.9.2"
  }
 },
 "nbformat": 4,
 "nbformat_minor": 5
}
